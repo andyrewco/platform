{
 "cells": [
  {
   "cell_type": "code",
   "execution_count": null,
   "metadata": {},
   "outputs": [],
   "source": [
    "import os\n",
    "from gensim.models.word2vec import Word2Vec\n",
    "\n",
    "\n",
    "class Corpi(object):\n",
    "    def __init__(self, dirname):\n",
    "        self.dirname = dirname\n",
    " \n",
    "    def __iter__(self):\n",
    "        for fname in os.listdir(self.dirname):\n",
    "            for line in open(os.path.join(self.dirname, fname)):\n",
    "                yield line.lower().split()\n",
    "\n",
    "\n",
    "corpi = Corpi(\"./corpi\")\n",
    "\n",
    "model = Word2Vec(corpi, min_count=1)\n",
    "weights = model.wv"
   ]
  },
  {
   "cell_type": "code",
   "execution_count": 17,
   "metadata": {},
   "outputs": [],
   "source": [
    "import gensim.downloader as api\n",
    "\n",
    "corpus = api.load('wiki-english-20171001')\n",
    "model = Word2Vec(corpus, min_count=1)\n",
    "weights = model.wv"
   ]
  },
  {
   "cell_type": "code",
   "execution_count": 20,
   "metadata": {},
   "outputs": [
    {
     "name": "stdout",
     "output_type": "stream",
     "text": [
      "None\n"
     ]
    }
   ],
   "source": [
    "print(weights.mapfile_path)"
   ]
  },
  {
   "cell_type": "code",
   "execution_count": 3,
   "metadata": {},
   "outputs": [],
   "source": [
    "sports_tags = [\"tennis\", \"soccer\", \"volleyball\", \"snowboarding\", \"climbing\"]\n",
    "music_tags = [\"taylorswift\", \"rock\", \"alt\", \"guitar\", \"band\"]\n",
    "spaces = {\"sports\": sports_tags, \"music\": music_tags, \"outdoors\": sports_tags}"
   ]
  },
  {
   "cell_type": "code",
   "execution_count": null,
   "metadata": {},
   "outputs": [],
   "source": [
    "for space, tags in spaces.items():\n",
    "    for tag in tags:\n",
    "        try:\n",
    "            print(f\"{space}:{tag}: {weights.similarity(space, tag)}\")\n",
    "        except KeyError:\n",
    "            print(f\"{tag} not found in vocab\")\n",
    "    print()"
   ]
  },
  {
   "cell_type": "code",
   "execution_count": 5,
   "metadata": {},
   "outputs": [],
   "source": [
    "accuracy = weights.evaluate_word_analogies('test-case.txt')"
   ]
  },
  {
   "cell_type": "code",
   "execution_count": 6,
   "metadata": {},
   "outputs": [
    {
     "data": {
      "text/plain": [
       "0.0006839945280437756"
      ]
     },
     "execution_count": 6,
     "metadata": {},
     "output_type": "execute_result"
    }
   ],
   "source": [
    "for section in accuracy:\n",
    "    print(f\"{}:{accuracy[0]}\")"
   ]
  }
 ],
 "metadata": {
  "kernelspec": {
   "display_name": "Python 3",
   "language": "python",
   "name": "python3"
  },
  "language_info": {
   "codemirror_mode": {
    "name": "ipython",
    "version": 3
   },
   "file_extension": ".py",
   "mimetype": "text/x-python",
   "name": "python",
   "nbconvert_exporter": "python",
   "pygments_lexer": "ipython3",
   "version": "3.11.2"
  }
 },
 "nbformat": 4,
 "nbformat_minor": 2
}
